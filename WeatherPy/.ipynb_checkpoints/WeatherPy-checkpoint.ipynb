{
 "cells": [
  {
   "cell_type": "markdown",
   "metadata": {},
   "source": [
    "# WeatherPy\n",
    "----\n",
    "\n",
    "#### Note\n",
    "* Instructions have been included for each segment. You do not have to follow them exactly, but they are included to help you think through the steps."
   ]
  },
  {
   "cell_type": "code",
   "execution_count": 3,
   "metadata": {
    "scrolled": true
   },
   "outputs": [],
   "source": [
    "# Dependencies and Setup\n",
    "import matplotlib.pyplot as plt\n",
    "import pandas as pd\n",
    "import numpy as np\n",
    "import requests\n",
    "import time\n",
    "from datetime import date\n",
    "import json\n",
    "import scipy.stats as st\n",
    "\n",
    "from scipy.stats import linregress\n",
    "\n",
    "# Import API key\n",
    "from api_keys import weather_api_key\n",
    "\n",
    "# Incorporated citipy to determine city based on latitude and longitude\n",
    "from citipy import citipy\n",
    "\n",
    "# Output File (CSV)\n",
    "output_data_file = \"output_data/cities.csv\"\n",
    "\n",
    "# Range of latitudes and longitudes\n",
    "lat_range = (-90, 90)\n",
    "lng_range = (-180, 180)"
   ]
  },
  {
   "cell_type": "markdown",
   "metadata": {},
   "source": [
    "## Generate Cities List"
   ]
  },
  {
   "cell_type": "code",
   "execution_count": 4,
   "metadata": {},
   "outputs": [
    {
     "data": {
      "text/plain": [
       "628"
      ]
     },
     "execution_count": 4,
     "metadata": {},
     "output_type": "execute_result"
    }
   ],
   "source": [
    "# Lists for holding lat_lngs and cities\n",
    "lat_lngs = []\n",
    "cities = []\n",
    "\n",
    "# Create a set of random lat and lng combos\n",
    "lats = np.random.uniform(lat_range[0], lat_range[1], size=1500)\n",
    "lngs = np.random.uniform(lng_range[0], lng_range[1], size=1500)\n",
    "lat_lngs = zip(lats, lngs)\n",
    "\n",
    "# Identify nearest city for each lat, lng combos\n",
    "for lat_lng in lat_lngs:\n",
    "    city = citipy.nearest_city(lat_lng[0], lat_lng[1]).city_name\n",
    "    \n",
    "    # If the city is unique, then add it to a our cities list\n",
    "    if city not in cities:\n",
    "        cities.append(city)\n",
    "\n",
    "# Print the city count to confirm sufficient count\n",
    "len(cities)"
   ]
  },
  {
   "cell_type": "markdown",
   "metadata": {},
   "source": [
    "### Perform API Calls\n",
    "* Perform a weather check on each city using a series of successive API calls.\n",
    "* Include a print log of each city as it'sbeing processed (with the city number and city name).\n"
   ]
  },
  {
   "cell_type": "code",
   "execution_count": 5,
   "metadata": {
    "scrolled": true
   },
   "outputs": [
    {
     "name": "stdout",
     "output_type": "stream",
     "text": [
      "Record 1 of Set 1 : salinas\n",
      "Record 2 of Set 1 : gardabani\n",
      "Record 3 of Set 1 : ostrovnoy\n",
      "Record 4 of Set 1 : isiro\n",
      "Record 5 of Set 1 : tommot\n",
      "Record 6 of Set 1 : rikitea\n",
      "Record 7 of Set 1 : ribeira grande\n",
      "Record 8 of Set 1 : bambous virieux\n",
      "Record 9 of Set 1 : busselton\n",
      "Record 10 of Set 1 : punta arenas\n",
      "City not found\n",
      "City not found\n",
      "Record 11 of Set 1 : dingle\n",
      "Record 12 of Set 1 : ushuaia\n",
      "Record 13 of Set 1 : rawson\n",
      "Record 14 of Set 1 : college\n",
      "Record 15 of Set 1 : vostok\n",
      "Record 16 of Set 1 : the pas\n",
      "Record 17 of Set 1 : faanui\n",
      "Record 18 of Set 1 : hithadhoo\n",
      "Record 19 of Set 1 : vao\n",
      "Record 20 of Set 1 : saint-philippe\n",
      "Record 21 of Set 1 : seoul\n",
      "Record 22 of Set 1 : nikolskoye\n",
      "Record 23 of Set 1 : ahipara\n",
      "Record 24 of Set 1 : sivas\n",
      "Record 25 of Set 1 : castro\n",
      "Record 26 of Set 1 : izhmorskiy\n",
      "Record 27 of Set 1 : lebu\n",
      "Record 28 of Set 1 : cidreira\n",
      "Record 29 of Set 1 : bluff\n",
      "Record 30 of Set 1 : lompoc\n",
      "Record 31 of Set 1 : port lincoln\n",
      "Record 32 of Set 1 : shelburne\n",
      "Record 33 of Set 1 : kapaa\n",
      "Record 34 of Set 1 : leningradskiy\n",
      "Record 35 of Set 1 : henties bay\n",
      "Record 36 of Set 1 : awbari\n",
      "Record 37 of Set 1 : hobart\n",
      "Record 38 of Set 1 : huejucar\n",
      "Record 39 of Set 1 : yulara\n",
      "Record 40 of Set 1 : barretos\n",
      "Record 41 of Set 1 : ponta do sol\n",
      "Record 42 of Set 1 : cherskiy\n",
      "Record 43 of Set 1 : bathsheba\n",
      "Record 44 of Set 1 : jamestown\n",
      "Record 45 of Set 1 : barrow\n",
      "Record 46 of Set 1 : namatanai\n",
      "City not found\n",
      "Record 47 of Set 1 : tura\n",
      "Record 48 of Set 1 : samoded\n",
      "Record 49 of Set 1 : esperance\n",
      "City not found\n",
      "City not found\n",
      "Record 50 of Set 1 : biritiba-mirim\n",
      "City not found\n",
      "Record 0 of Set 2 : rutland\n",
      "City not found\n",
      "Record 1 of Set 2 : portland\n",
      "Record 2 of Set 2 : yanacancha\n",
      "Record 3 of Set 2 : bredasdorp\n",
      "Record 4 of Set 2 : port alfred\n",
      "Record 5 of Set 2 : georgetown\n",
      "City not found\n",
      "Record 6 of Set 2 : sturgis\n",
      "Record 7 of Set 2 : thompson\n",
      "Record 8 of Set 2 : tongchuan\n",
      "Record 9 of Set 2 : mahebourg\n",
      "Record 10 of Set 2 : guerrero negro\n",
      "Record 11 of Set 2 : muzhi\n",
      "Record 12 of Set 2 : talnakh\n",
      "Record 13 of Set 2 : auki\n",
      "Record 14 of Set 2 : mataura\n",
      "Record 15 of Set 2 : xinmin\n",
      "City not found\n",
      "City not found\n",
      "Record 16 of Set 2 : butaritari\n",
      "Record 17 of Set 2 : thiruvananthapuram\n",
      "Record 18 of Set 2 : saskylakh\n",
      "Record 19 of Set 2 : namibe\n",
      "Record 20 of Set 2 : vaini\n",
      "Record 21 of Set 2 : ati\n",
      "Record 22 of Set 2 : katherine\n",
      "Record 23 of Set 2 : mansa\n",
      "Record 24 of Set 2 : bataipora\n",
      "Record 25 of Set 2 : tacoronte\n",
      "Record 26 of Set 2 : kaitangata\n",
      "Record 27 of Set 2 : hilo\n",
      "Record 28 of Set 2 : chimoio\n",
      "Record 29 of Set 2 : albany\n",
      "Record 30 of Set 2 : puerto ayora\n",
      "Record 31 of Set 2 : ukwa\n",
      "Record 32 of Set 2 : mildura\n",
      "City not found\n",
      "Record 33 of Set 2 : mpongwe\n",
      "Record 34 of Set 2 : port elizabeth\n",
      "Record 35 of Set 2 : golyshmanovo\n",
      "Record 36 of Set 2 : trincomalee\n",
      "Record 37 of Set 2 : east london\n",
      "Record 38 of Set 2 : amahai\n",
      "Record 39 of Set 2 : lubao\n",
      "Record 40 of Set 2 : changping\n",
      "Record 41 of Set 2 : hermanus\n",
      "Record 42 of Set 2 : hofn\n",
      "Record 43 of Set 2 : rio gallegos\n",
      "Record 44 of Set 2 : sept-iles\n",
      "Record 45 of Set 2 : atuona\n",
      "Record 46 of Set 2 : pevek\n",
      "Record 47 of Set 2 : tripoli\n",
      "Record 48 of Set 2 : rivadavia\n",
      "City not found\n",
      "Record 49 of Set 2 : aranos\n",
      "Record 50 of Set 2 : hasaki\n",
      "Record 0 of Set 3 : mana\n",
      "Record 1 of Set 3 : tuktoyaktuk\n",
      "Record 2 of Set 3 : gazanjyk\n",
      "Record 3 of Set 3 : delta del tigre\n",
      "Record 4 of Set 3 : husavik\n",
      "Record 5 of Set 3 : arona\n",
      "City not found\n",
      "Record 6 of Set 3 : avarua\n",
      "Record 7 of Set 3 : naze\n",
      "Record 8 of Set 3 : kruisfontein\n",
      "Record 9 of Set 3 : kloulklubed\n",
      "Record 10 of Set 3 : olafsvik\n",
      "Record 11 of Set 3 : general roca\n",
      "Record 12 of Set 3 : torbay\n",
      "Record 13 of Set 3 : provideniya\n",
      "Record 14 of Set 3 : upernavik\n",
      "Record 15 of Set 3 : green river\n",
      "Record 16 of Set 3 : guanica\n",
      "Record 17 of Set 3 : youghal\n",
      "Record 18 of Set 3 : shimoda\n",
      "Record 19 of Set 3 : khandbari\n",
      "Record 20 of Set 3 : sungaipenuh\n",
      "Record 21 of Set 3 : adrar\n",
      "City not found\n",
      "Record 22 of Set 3 : rovnoye\n",
      "Record 23 of Set 3 : arman\n",
      "Record 24 of Set 3 : gambela\n",
      "Record 25 of Set 3 : saint george\n",
      "Record 26 of Set 3 : olga\n",
      "Record 27 of Set 3 : mackay\n",
      "Record 28 of Set 3 : bubaque\n",
      "Record 29 of Set 3 : vila velha\n",
      "City not found\n",
      "Record 30 of Set 3 : lata\n",
      "Record 31 of Set 3 : oranjestad\n",
      "Record 32 of Set 3 : hualmay\n",
      "Record 33 of Set 3 : yellowknife\n",
      "Record 34 of Set 3 : nata\n",
      "Record 35 of Set 3 : sao filipe\n",
      "Record 36 of Set 3 : lundazi\n",
      "City not found\n",
      "Record 37 of Set 3 : kenai\n",
      "Record 38 of Set 3 : lasa\n",
      "Record 39 of Set 3 : kuusamo\n",
      "Record 40 of Set 3 : carnarvon\n",
      "Record 41 of Set 3 : luderitz\n",
      "Record 42 of Set 3 : urengoy\n",
      "Record 43 of Set 3 : novoye leushino\n",
      "Record 44 of Set 3 : evensk\n",
      "Record 45 of Set 3 : mar del plata\n",
      "Record 46 of Set 3 : san quintin\n",
      "Record 47 of Set 3 : bethel\n",
      "Record 48 of Set 3 : san jose\n",
      "Record 49 of Set 3 : lagoa\n",
      "Record 50 of Set 3 : dunedin\n",
      "Record 0 of Set 4 : kirakira\n",
      "Record 1 of Set 4 : okhotsk\n",
      "Record 2 of Set 4 : kodiak\n",
      "Record 3 of Set 4 : kununurra\n",
      "City not found\n",
      "Record 4 of Set 4 : bam\n",
      "Record 5 of Set 4 : gorgan\n",
      "Record 6 of Set 4 : avera\n",
      "Record 7 of Set 4 : cockburn town\n",
      "Record 8 of Set 4 : puri\n",
      "City not found\n",
      "City not found\n",
      "Record 9 of Set 4 : half moon bay\n",
      "Record 10 of Set 4 : gat\n",
      "Record 11 of Set 4 : nabire\n",
      "Record 12 of Set 4 : bushehr\n",
      "Record 13 of Set 4 : souillac\n",
      "Record 14 of Set 4 : floro\n",
      "Record 15 of Set 4 : padang\n",
      "Record 16 of Set 4 : shemgang\n",
      "Record 17 of Set 4 : dubna\n",
      "Record 18 of Set 4 : vanimo\n",
      "Record 19 of Set 4 : hearst\n",
      "Record 20 of Set 4 : klaksvik\n",
      "Record 21 of Set 4 : pokhara\n",
      "Record 22 of Set 4 : inhambane\n",
      "Record 23 of Set 4 : pisco\n",
      "Record 24 of Set 4 : qitaihe\n",
      "Record 25 of Set 4 : norman wells\n",
      "Record 26 of Set 4 : pangnirtung\n",
      "City not found\n",
      "Record 27 of Set 4 : north bend\n",
      "Record 28 of Set 4 : new norfolk\n",
      "Record 29 of Set 4 : khatanga\n",
      "Record 30 of Set 4 : chokurdakh\n",
      "Record 31 of Set 4 : dunkwa\n",
      "City not found\n",
      "Record 32 of Set 4 : egvekinot\n",
      "Record 33 of Set 4 : alugan\n",
      "Record 34 of Set 4 : yarmouth\n",
      "Record 35 of Set 4 : ordzhonikidze\n",
      "Record 36 of Set 4 : beringovskiy\n",
      "Record 37 of Set 4 : vuktyl\n",
      "Record 38 of Set 4 : wangaratta\n",
      "Record 39 of Set 4 : chuy\n",
      "Record 40 of Set 4 : kahului\n",
      "Record 41 of Set 4 : pauini\n",
      "Record 42 of Set 4 : hovd\n",
      "Record 43 of Set 4 : simbahan\n",
      "Record 44 of Set 4 : caxias do sul\n",
      "Record 45 of Set 4 : miri\n",
      "Record 46 of Set 4 : palu\n",
      "Record 47 of Set 4 : walvis bay\n",
      "City not found\n",
      "City not found\n",
      "Record 48 of Set 4 : meulaboh\n",
      "Record 49 of Set 4 : hervey bay\n",
      "City not found\n",
      "Record 50 of Set 4 : iqaluit\n",
      "Record 0 of Set 5 : honningsvag\n",
      "City not found\n",
      "Record 1 of Set 5 : sobolevo\n",
      "Record 2 of Set 5 : scarborough\n",
      "Record 3 of Set 5 : tarapur\n",
      "Record 4 of Set 5 : tromso\n",
      "City not found\n",
      "Record 5 of Set 5 : sitka\n",
      "Record 6 of Set 5 : magnor\n",
      "Record 7 of Set 5 : arraial do cabo\n",
      "Record 8 of Set 5 : cape town\n",
      "Record 9 of Set 5 : krasnyy yar\n",
      "Record 10 of Set 5 : batticaloa\n",
      "Record 11 of Set 5 : ios\n",
      "City not found\n",
      "Record 12 of Set 5 : grindavik\n",
      "City not found\n",
      "Record 13 of Set 5 : nyurba\n",
      "Record 14 of Set 5 : tiksi\n",
      "Record 15 of Set 5 : salalah\n",
      "Record 16 of Set 5 : bud\n",
      "Record 17 of Set 5 : danielskuil\n",
      "Record 18 of Set 5 : camacha\n",
      "Record 19 of Set 5 : luwuk\n",
      "Record 20 of Set 5 : palora\n",
      "Record 21 of Set 5 : airai\n",
      "City not found\n",
      "Record 22 of Set 5 : encruzilhada do sul\n",
      "City not found\n",
      "Record 23 of Set 5 : tiznit\n",
      "Record 24 of Set 5 : xuddur\n",
      "Record 25 of Set 5 : san vicente\n",
      "Record 26 of Set 5 : inirida\n",
      "Record 27 of Set 5 : fort nelson\n",
      "Record 28 of Set 5 : mahina\n",
      "Record 29 of Set 5 : zhigansk\n",
      "Record 30 of Set 5 : cocobeach\n",
      "Record 31 of Set 5 : naliya\n",
      "Record 32 of Set 5 : makakilo city\n",
      "Record 33 of Set 5 : la palma\n",
      "City not found\n",
      "Record 34 of Set 5 : kargat\n",
      "Record 35 of Set 5 : aranjuez\n",
      "Record 36 of Set 5 : qaanaaq\n",
      "Record 37 of Set 5 : loralai\n",
      "Record 38 of Set 5 : acapulco\n",
      "Record 39 of Set 5 : dikson\n",
      "Record 40 of Set 5 : garbolovo\n",
      "Record 41 of Set 5 : isangel\n",
      "Record 42 of Set 5 : mahibadhoo\n",
      "Record 43 of Set 5 : sabang\n",
      "Record 44 of Set 5 : san patricio\n",
      "Record 45 of Set 5 : kichera\n",
      "Record 46 of Set 5 : ust-kuyga\n",
      "Record 47 of Set 5 : cauquenes\n",
      "Record 48 of Set 5 : pervomayskiy\n",
      "Record 49 of Set 5 : asau\n",
      "Record 50 of Set 5 : srednekolymsk\n",
      "Record 0 of Set 6 : baruun-urt\n",
      "Record 1 of Set 6 : amapa\n",
      "Record 2 of Set 6 : veraval\n",
      "City not found\n",
      "Record 3 of Set 6 : tasiilaq\n",
      "Record 4 of Set 6 : nizwa\n",
      "Record 5 of Set 6 : liverpool\n",
      "Record 6 of Set 6 : sakakah\n"
     ]
    },
    {
     "name": "stdout",
     "output_type": "stream",
     "text": [
      "Record 7 of Set 6 : berezovka\n",
      "Record 8 of Set 6 : jalu\n",
      "Record 9 of Set 6 : elizabeth city\n",
      "Record 10 of Set 6 : chegdomyn\n",
      "City not found\n",
      "Record 11 of Set 6 : tokur\n",
      "Record 12 of Set 6 : meadow lake\n",
      "Record 13 of Set 6 : sibolga\n",
      "Record 14 of Set 6 : bom jesus da lapa\n",
      "Record 15 of Set 6 : san rafael\n",
      "Record 16 of Set 6 : severo-kurilsk\n",
      "Record 17 of Set 6 : chuguyevka\n",
      "Record 18 of Set 6 : kavaratti\n",
      "Record 19 of Set 6 : aksay\n",
      "Record 20 of Set 6 : strezhevoy\n",
      "Record 21 of Set 6 : westport\n",
      "Record 22 of Set 6 : cortes\n",
      "Record 23 of Set 6 : kirkenaer\n",
      "Record 24 of Set 6 : murdochville\n",
      "Record 25 of Set 6 : ixtapa\n",
      "Record 26 of Set 6 : mutoko\n",
      "Record 27 of Set 6 : geraldton\n",
      "Record 28 of Set 6 : muravlenko\n",
      "Record 29 of Set 6 : rocha\n",
      "Record 30 of Set 6 : derzhavinsk\n",
      "Record 31 of Set 6 : ludvika\n",
      "Record 32 of Set 6 : mount gambier\n",
      "Record 33 of Set 6 : nouadhibou\n",
      "Record 34 of Set 6 : shahdol\n",
      "Record 35 of Set 6 : vestmannaeyjar\n",
      "City not found\n",
      "Record 36 of Set 6 : coquimbo\n",
      "Record 37 of Set 6 : bandarbeyla\n",
      "Record 38 of Set 6 : richards bay\n",
      "Record 39 of Set 6 : comodoro rivadavia\n",
      "Record 40 of Set 6 : tabou\n",
      "Record 41 of Set 6 : wakema\n",
      "Record 42 of Set 6 : rognan\n",
      "Record 43 of Set 6 : rong kwang\n",
      "Record 44 of Set 6 : port hardy\n",
      "Record 45 of Set 6 : cascais\n",
      "Record 46 of Set 6 : masuguru\n",
      "Record 47 of Set 6 : cabra\n",
      "Record 48 of Set 6 : tautira\n",
      "Record 49 of Set 6 : vagur\n",
      "Record 50 of Set 6 : boa vista\n",
      "Record 0 of Set 7 : caravelas\n",
      "Record 1 of Set 7 : alta floresta\n",
      "Record 2 of Set 7 : tilichiki\n",
      "Record 3 of Set 7 : george\n",
      "Record 4 of Set 7 : kutum\n",
      "Record 5 of Set 7 : constitucion\n",
      "Record 6 of Set 7 : brokopondo\n",
      "Record 7 of Set 7 : broken hill\n",
      "Record 8 of Set 7 : khash\n",
      "Record 9 of Set 7 : tigre\n",
      "Record 10 of Set 7 : olinda\n",
      "Record 11 of Set 7 : bialystok\n",
      "Record 12 of Set 7 : itarema\n",
      "Record 13 of Set 7 : codrington\n",
      "Record 14 of Set 7 : coihaique\n",
      "Record 15 of Set 7 : nome\n",
      "Record 16 of Set 7 : sambava\n",
      "Record 17 of Set 7 : saint-augustin\n",
      "Record 18 of Set 7 : alofi\n",
      "Record 19 of Set 7 : potsdam\n",
      "Record 20 of Set 7 : buchanan\n",
      "Record 21 of Set 7 : fare\n",
      "Record 22 of Set 7 : pochutla\n",
      "Record 23 of Set 7 : vikhorevka\n",
      "Record 24 of Set 7 : soyo\n",
      "Record 25 of Set 7 : tarakan\n",
      "Record 26 of Set 7 : ilebo\n",
      "Record 27 of Set 7 : mitsamiouli\n",
      "Record 28 of Set 7 : chapais\n",
      "Record 29 of Set 7 : praia da vitoria\n",
      "Record 30 of Set 7 : najran\n",
      "Record 31 of Set 7 : victoria\n",
      "Record 32 of Set 7 : bengkulu\n",
      "Record 33 of Set 7 : orange\n",
      "City not found\n",
      "Record 34 of Set 7 : kamenka\n",
      "Record 35 of Set 7 : kano\n",
      "Record 36 of Set 7 : margate\n",
      "Record 37 of Set 7 : kalengwa\n",
      "Record 38 of Set 7 : arkadak\n",
      "Record 39 of Set 7 : kurilsk\n",
      "Record 40 of Set 7 : omboue\n",
      "Record 41 of Set 7 : havre-saint-pierre\n",
      "Record 42 of Set 7 : uruguaiana\n",
      "Record 43 of Set 7 : gumdag\n",
      "Record 44 of Set 7 : tsogni\n",
      "Record 45 of Set 7 : cabo san lucas\n",
      "Record 46 of Set 7 : batagay-alyta\n",
      "Record 47 of Set 7 : kholbon\n",
      "Record 48 of Set 7 : krasnoselkup\n",
      "Record 49 of Set 7 : nizhniy odes\n",
      "Record 50 of Set 7 : ancud\n",
      "Record 0 of Set 8 : lavrentiya\n",
      "Record 1 of Set 8 : klyuchi\n",
      "Record 2 of Set 8 : grand forks\n",
      "Record 3 of Set 8 : moron\n",
      "Record 4 of Set 8 : touros\n",
      "City not found\n",
      "Record 5 of Set 8 : trairi\n",
      "Record 6 of Set 8 : maralal\n",
      "Record 7 of Set 8 : nsoko\n",
      "Record 8 of Set 8 : karratha\n",
      "Record 9 of Set 8 : kita\n",
      "Record 10 of Set 8 : saint-pierre\n",
      "Record 11 of Set 8 : oyonnax\n",
      "Record 12 of Set 8 : lanzhou\n",
      "Record 13 of Set 8 : mentougou\n",
      "City not found\n",
      "Record 14 of Set 8 : tual\n",
      "Record 15 of Set 8 : clyde river\n",
      "Record 16 of Set 8 : mayo\n",
      "Record 17 of Set 8 : rancho palos verdes\n",
      "Record 18 of Set 8 : yazman\n",
      "Record 19 of Set 8 : havelock\n",
      "Record 20 of Set 8 : luganville\n",
      "Record 21 of Set 8 : kanbe\n",
      "Record 22 of Set 8 : armilla\n",
      "Record 23 of Set 8 : fremont\n",
      "Record 24 of Set 8 : mpulungu\n",
      "Record 25 of Set 8 : la ronge\n",
      "Record 26 of Set 8 : san matias\n",
      "Record 27 of Set 8 : havoysund\n",
      "Record 28 of Set 8 : teya\n",
      "Record 29 of Set 8 : pangai\n",
      "City not found\n",
      "Record 30 of Set 8 : inuvik\n",
      "Record 31 of Set 8 : wewak\n",
      "Record 32 of Set 8 : gay\n",
      "City not found\n",
      "Record 33 of Set 8 : slantsy\n",
      "Record 34 of Set 8 : itupiranga\n",
      "Record 35 of Set 8 : faya\n",
      "Record 36 of Set 8 : xichang\n",
      "Record 37 of Set 8 : alice springs\n",
      "Record 38 of Set 8 : hamilton\n",
      "Record 39 of Set 8 : nenjiang\n",
      "Record 40 of Set 8 : shieli\n",
      "Record 41 of Set 8 : kavieng\n",
      "Record 42 of Set 8 : zhuanghe\n",
      "Record 43 of Set 8 : fatsa\n",
      "Record 44 of Set 8 : tatarsk\n",
      "Record 45 of Set 8 : luau\n",
      "Record 46 of Set 8 : sioux lookout\n",
      "City not found\n",
      "Record 47 of Set 8 : shuiji\n",
      "Record 48 of Set 8 : otradnoye\n",
      "Record 49 of Set 8 : verkhoyansk\n",
      "Record 50 of Set 8 : axim\n",
      "Record 0 of Set 9 : abu kamal\n",
      "Record 1 of Set 9 : manta\n",
      "Record 2 of Set 9 : rafaela\n",
      "Record 3 of Set 9 : jardim\n",
      "Record 4 of Set 9 : burgeo\n",
      "Record 5 of Set 9 : sur\n",
      "Record 6 of Set 9 : cabedelo\n",
      "Record 7 of Set 9 : waitati\n",
      "Record 8 of Set 9 : upata\n",
      "Record 9 of Set 9 : narsaq\n",
      "Record 10 of Set 9 : nishihara\n",
      "Record 11 of Set 9 : teknaf\n",
      "Record 12 of Set 9 : butembo\n",
      "Record 13 of Set 9 : navoi\n",
      "Record 14 of Set 9 : vardo\n",
      "Record 15 of Set 9 : san luis potosi\n",
      "Record 16 of Set 9 : onega\n",
      "Record 17 of Set 9 : huangnihe\n",
      "Record 18 of Set 9 : nioro\n",
      "Record 19 of Set 9 : letka\n",
      "Record 20 of Set 9 : mudigere\n",
      "Record 21 of Set 9 : arti\n",
      "Record 22 of Set 9 : warrnambool\n",
      "Record 23 of Set 9 : grand-lahou\n",
      "Record 24 of Set 9 : babol\n",
      "Record 25 of Set 9 : sembe\n",
      "Record 26 of Set 9 : la plata\n",
      "Record 27 of Set 9 : aksarka\n",
      "Record 28 of Set 9 : glendive\n",
      "Record 29 of Set 9 : sorland\n",
      "Record 30 of Set 9 : badarpur\n",
      "Record 31 of Set 9 : iskateley\n",
      "Record 32 of Set 9 : broome\n",
      "Record 33 of Set 9 : owosso\n",
      "Record 34 of Set 9 : smithers\n",
      "Record 35 of Set 9 : cilegon\n",
      "Record 36 of Set 9 : dano\n",
      "Record 37 of Set 9 : santa cruz\n",
      "City not found\n",
      "Record 38 of Set 9 : mandalgovi\n",
      "Record 39 of Set 9 : great yarmouth\n",
      "Record 40 of Set 9 : fandriana\n",
      "Record 41 of Set 9 : port blair\n",
      "Record 42 of Set 9 : bukama\n",
      "Record 43 of Set 9 : saint-jean-de-luz\n",
      "Record 44 of Set 9 : pacific grove\n",
      "Record 45 of Set 9 : catanzaro\n",
      "Record 46 of Set 9 : arlit\n",
      "Record 47 of Set 9 : doha\n",
      "Record 48 of Set 9 : harper\n",
      "Record 49 of Set 9 : charlestown\n",
      "Record 50 of Set 9 : batemans bay\n",
      "Record 0 of Set 10 : portsmouth\n",
      "Record 1 of Set 10 : naraina\n",
      "Record 2 of Set 10 : gornopravdinsk\n",
      "Record 3 of Set 10 : haapiti\n",
      "Record 4 of Set 10 : mahon\n",
      "Record 5 of Set 10 : leshukonskoye\n",
      "Record 6 of Set 10 : san carlos de bariloche\n",
      "Record 7 of Set 10 : sheregesh\n",
      "Record 8 of Set 10 : yaan\n",
      "Record 9 of Set 10 : yuzhno-sukhokumsk\n",
      "Record 10 of Set 10 : katsuura\n",
      "Record 11 of Set 10 : mongo\n",
      "Record 12 of Set 10 : saint anthony\n",
      "Record 13 of Set 10 : taoudenni\n",
      "Record 14 of Set 10 : mfou\n",
      "Record 15 of Set 10 : port macquarie\n",
      "Record 16 of Set 10 : antofagasta\n",
      "Record 17 of Set 10 : yenagoa\n",
      "Record 18 of Set 10 : willowmore\n",
      "City not found\n",
      "Record 19 of Set 10 : ust-barguzin\n",
      "Record 20 of Set 10 : port hedland\n",
      "Record 21 of Set 10 : nikolsk\n",
      "Record 22 of Set 10 : bagaha\n",
      "Record 23 of Set 10 : cheremkhovo\n",
      "Record 24 of Set 10 : puerto leguizamo\n",
      "Record 25 of Set 10 : dashitou\n",
      "Record 26 of Set 10 : markova\n",
      "Record 27 of Set 10 : aklavik\n",
      "Record 28 of Set 10 : ilinskiy\n",
      "City not found\n",
      "Record 29 of Set 10 : kudahuvadhoo\n",
      "Record 30 of Set 10 : verkh-chebula\n",
      "Record 31 of Set 10 : nsanje\n",
      "Record 32 of Set 10 : san policarpo\n",
      "City not found\n",
      "Record 33 of Set 10 : yokadouma\n",
      "Record 34 of Set 10 : pundaguitan\n",
      "Record 35 of Set 10 : devaprayag\n",
      "Record 36 of Set 10 : baltiysk\n",
      "Record 37 of Set 10 : payo\n",
      "Record 38 of Set 10 : saraza\n",
      "Record 39 of Set 10 : fundao\n",
      "Record 40 of Set 10 : mount isa\n",
      "Record 41 of Set 10 : kyra\n",
      "Record 42 of Set 10 : utkivka\n",
      "Record 43 of Set 10 : salinopolis\n",
      "Record 44 of Set 10 : arco\n",
      "Record 45 of Set 10 : slobodskoy\n",
      "Record 46 of Set 10 : french harbor\n",
      "Record 47 of Set 10 : qasigiannguit\n",
      "Record 48 of Set 10 : bundaberg\n",
      "Record 49 of Set 10 : inta\n",
      "Record 50 of Set 10 : panguna\n",
      "Record 0 of Set 11 : sandnessjoen\n",
      "Record 1 of Set 11 : indian head\n",
      "Record 2 of Set 11 : rio claro\n",
      "Record 3 of Set 11 : mao\n",
      "Record 4 of Set 11 : tucuman\n",
      "Record 5 of Set 11 : vestmanna\n",
      "Record 6 of Set 11 : dongsheng\n",
      "Record 7 of Set 11 : roald\n",
      "Record 8 of Set 11 : kautokeino\n",
      "Record 9 of Set 11 : akdepe\n",
      "Record 10 of Set 11 : rolla\n",
      "Record 11 of Set 11 : ust-tsilma\n",
      "Record 12 of Set 11 : northam\n",
      "Record 13 of Set 11 : zaysan\n",
      "Record 14 of Set 11 : vila franca do campo\n",
      "Record 15 of Set 11 : kalmunai\n",
      "Record 16 of Set 11 : angoche\n"
     ]
    },
    {
     "name": "stdout",
     "output_type": "stream",
     "text": [
      "Record 17 of Set 11 : longyearbyen\n",
      "Record 18 of Set 11 : anadyr\n",
      "Record 19 of Set 11 : pavilosta\n",
      "Record 20 of Set 11 : rongcheng\n",
      "Record 21 of Set 11 : kolpashevo\n",
      "Record 22 of Set 11 : grants pass\n",
      "Record 23 of Set 11 : nanortalik\n",
      "Record 24 of Set 11 : severo-yeniseyskiy\n",
      "Record 25 of Set 11 : talara\n",
      "Record 26 of Set 11 : nijar\n",
      "Record 27 of Set 11 : kaohsiung\n",
      "Record 28 of Set 11 : lakatoro\n",
      "Record 29 of Set 11 : novosil\n",
      "Record 30 of Set 11 : hauterive\n",
      "Record 31 of Set 11 : nuzvid\n",
      "Record 32 of Set 11 : felanitx\n",
      "Record 33 of Set 11 : prado\n",
      "Record 34 of Set 11 : dothan\n",
      "City not found\n",
      "Record 35 of Set 11 : sao joao da barra\n",
      "Record 36 of Set 11 : porto walter\n",
      "Record 37 of Set 11 : kamariotissa\n",
      "Record 38 of Set 11 : russell\n",
      "Record 39 of Set 11 : kurumkan\n",
      "Record 40 of Set 11 : rock sound\n",
      "Record 41 of Set 11 : tomatlan\n",
      "Record 42 of Set 11 : tessalit\n",
      "Record 43 of Set 11 : kerouane\n",
      "Record 44 of Set 11 : mehamn\n",
      "Record 45 of Set 11 : trelew\n",
      "Record 46 of Set 11 : aberdeen\n",
      "Record 47 of Set 11 : saldanha\n",
      "Record 48 of Set 11 : salta\n",
      "Record 49 of Set 11 : sechura\n",
      "Record 50 of Set 11 : morgan city\n",
      "Record 0 of Set 12 : torrox\n",
      "Record 1 of Set 12 : noumea\n",
      "Record 2 of Set 12 : pastavy\n",
      "Record 3 of Set 12 : tiarei\n",
      "Record 4 of Set 12 : fonte boa\n",
      "Record 5 of Set 12 : oranjemund\n",
      "Record 6 of Set 12 : kot samaba\n",
      "Record 7 of Set 12 : ahuimanu\n",
      "Record 8 of Set 12 : mogadishu\n",
      "Record 9 of Set 12 : mwene-ditu\n",
      "Record 10 of Set 12 : socuellamos\n",
      "Record 11 of Set 12 : guapiacu\n",
      "Record 12 of Set 12 : cervo\n",
      "Record 13 of Set 12 : umm kaddadah\n",
      "Record 14 of Set 12 : baykit\n",
      "Record 15 of Set 12 : bambanglipuro\n",
      "Record 16 of Set 12 : nemuro\n",
      "City not found\n",
      "Record 17 of Set 12 : tabuk\n",
      "Record 18 of Set 12 : adolfo lopez mateos\n",
      "Record 19 of Set 12 : lumatil\n",
      "Record 20 of Set 12 : san jeronimo\n",
      "Record 21 of Set 12 : dalbandin\n",
      "Data Retrieval Complete\n"
     ]
    }
   ],
   "source": [
    "# Save config information\n",
    "base_url = \"http://api.openweathermap.org/data/2.5/weather?\"\n",
    "units = \"imperial\"\n",
    "query_url = f\"{base_url}appid={weather_api_key}&units={units}&q=\"\n",
    "# set up lists to hold reponse info\n",
    "city_name_list = []\n",
    "cloudiness_list = []\n",
    "country_list = []\n",
    "date_list = []\n",
    "humidity_list = []\n",
    "lat_list = []\n",
    "lng_list = []\n",
    "max_temp_list = []\n",
    "wind_speed_list = []\n",
    "index_counter = 0\n",
    "set_counter = 1\n",
    "\n",
    "# For each city name in cities list, do below things...\n",
    "for index, city in enumerate(cities, start = 1):\n",
    "    try:\n",
    "        response = requests.get(query_url + city).json()\n",
    "        city_name_list.append(response[\"name\"])\n",
    "        cloudiness_list.append(response[\"clouds\"][\"all\"])\n",
    "        country_list.append(response[\"sys\"][\"country\"])\n",
    "        date_list.append(response[\"dt\"])\n",
    "        humidity_list.append(response[\"main\"][\"humidity\"])\n",
    "        lat_list.append(response[\"coord\"][\"lat\"])\n",
    "        lng_list.append(response[\"coord\"][\"lon\"])\n",
    "        max_temp_list.append(response['main']['temp_max'])\n",
    "        wind_speed_list.append(response[\"wind\"][\"speed\"])\n",
    "        if index_counter > 49:\n",
    "            index_counter = 0\n",
    "            set_counter = set_counter + 1\n",
    "    \n",
    "        else:\n",
    "            index_counter = index_counter + 1\n",
    "            \n",
    "        print(f\"Record {index_counter} of Set {set_counter} : {city}\") \n",
    "  \n",
    "    except(KeyError, IndexError):\n",
    "        print(\"City not found\")\n",
    "\n",
    "print(\"Data Retrieval Complete\")\n",
    " "
   ]
  },
  {
   "cell_type": "markdown",
   "metadata": {},
   "source": [
    "### Convert Raw Data to DataFrame\n",
    "* Export the city data into a .csv.\n",
    "* Display the DataFrame"
   ]
  },
  {
   "cell_type": "code",
   "execution_count": 6,
   "metadata": {},
   "outputs": [
    {
     "data": {
      "text/html": [
       "<div>\n",
       "<style scoped>\n",
       "    .dataframe tbody tr th:only-of-type {\n",
       "        vertical-align: middle;\n",
       "    }\n",
       "\n",
       "    .dataframe tbody tr th {\n",
       "        vertical-align: top;\n",
       "    }\n",
       "\n",
       "    .dataframe thead th {\n",
       "        text-align: right;\n",
       "    }\n",
       "</style>\n",
       "<table border=\"1\" class=\"dataframe\">\n",
       "  <thead>\n",
       "    <tr style=\"text-align: right;\">\n",
       "      <th></th>\n",
       "      <th>City</th>\n",
       "      <th>Cloudiness</th>\n",
       "      <th>Country</th>\n",
       "      <th>Date</th>\n",
       "      <th>Humidity</th>\n",
       "      <th>Lat</th>\n",
       "      <th>Lng</th>\n",
       "      <th>Max Temp</th>\n",
       "      <th>Wind Speed</th>\n",
       "    </tr>\n",
       "  </thead>\n",
       "  <tbody>\n",
       "    <tr>\n",
       "      <th>0</th>\n",
       "      <td>Salinas</td>\n",
       "      <td>1</td>\n",
       "      <td>US</td>\n",
       "      <td>1603932753</td>\n",
       "      <td>44</td>\n",
       "      <td>36.68</td>\n",
       "      <td>-121.66</td>\n",
       "      <td>71.60</td>\n",
       "      <td>9.17</td>\n",
       "    </tr>\n",
       "    <tr>\n",
       "      <th>1</th>\n",
       "      <td>Gardabani</td>\n",
       "      <td>85</td>\n",
       "      <td>GE</td>\n",
       "      <td>1603933043</td>\n",
       "      <td>83</td>\n",
       "      <td>41.46</td>\n",
       "      <td>45.09</td>\n",
       "      <td>52.32</td>\n",
       "      <td>1.83</td>\n",
       "    </tr>\n",
       "    <tr>\n",
       "      <th>2</th>\n",
       "      <td>Ostrovnoy</td>\n",
       "      <td>99</td>\n",
       "      <td>RU</td>\n",
       "      <td>1603932996</td>\n",
       "      <td>88</td>\n",
       "      <td>68.05</td>\n",
       "      <td>39.51</td>\n",
       "      <td>39.52</td>\n",
       "      <td>18.14</td>\n",
       "    </tr>\n",
       "    <tr>\n",
       "      <th>3</th>\n",
       "      <td>Isiro</td>\n",
       "      <td>76</td>\n",
       "      <td>CD</td>\n",
       "      <td>1603933044</td>\n",
       "      <td>97</td>\n",
       "      <td>2.77</td>\n",
       "      <td>27.62</td>\n",
       "      <td>67.96</td>\n",
       "      <td>1.10</td>\n",
       "    </tr>\n",
       "    <tr>\n",
       "      <th>4</th>\n",
       "      <td>Tommot</td>\n",
       "      <td>89</td>\n",
       "      <td>RU</td>\n",
       "      <td>1603933044</td>\n",
       "      <td>92</td>\n",
       "      <td>58.96</td>\n",
       "      <td>126.29</td>\n",
       "      <td>10.33</td>\n",
       "      <td>0.81</td>\n",
       "    </tr>\n",
       "    <tr>\n",
       "      <th>...</th>\n",
       "      <td>...</td>\n",
       "      <td>...</td>\n",
       "      <td>...</td>\n",
       "      <td>...</td>\n",
       "      <td>...</td>\n",
       "      <td>...</td>\n",
       "      <td>...</td>\n",
       "      <td>...</td>\n",
       "      <td>...</td>\n",
       "    </tr>\n",
       "    <tr>\n",
       "      <th>577</th>\n",
       "      <td>Tabuk</td>\n",
       "      <td>100</td>\n",
       "      <td>PH</td>\n",
       "      <td>1603933014</td>\n",
       "      <td>78</td>\n",
       "      <td>17.42</td>\n",
       "      <td>121.44</td>\n",
       "      <td>79.81</td>\n",
       "      <td>2.21</td>\n",
       "    </tr>\n",
       "    <tr>\n",
       "      <th>578</th>\n",
       "      <td>Adolfo López Mateos</td>\n",
       "      <td>0</td>\n",
       "      <td>MX</td>\n",
       "      <td>1603933113</td>\n",
       "      <td>27</td>\n",
       "      <td>28.47</td>\n",
       "      <td>-107.30</td>\n",
       "      <td>51.01</td>\n",
       "      <td>11.01</td>\n",
       "    </tr>\n",
       "    <tr>\n",
       "      <th>579</th>\n",
       "      <td>Lumatil</td>\n",
       "      <td>40</td>\n",
       "      <td>PH</td>\n",
       "      <td>1603933113</td>\n",
       "      <td>66</td>\n",
       "      <td>5.87</td>\n",
       "      <td>124.89</td>\n",
       "      <td>83.77</td>\n",
       "      <td>2.46</td>\n",
       "    </tr>\n",
       "    <tr>\n",
       "      <th>580</th>\n",
       "      <td>San Jerónimo</td>\n",
       "      <td>26</td>\n",
       "      <td>PE</td>\n",
       "      <td>1603933113</td>\n",
       "      <td>54</td>\n",
       "      <td>-11.95</td>\n",
       "      <td>-75.28</td>\n",
       "      <td>56.80</td>\n",
       "      <td>3.18</td>\n",
       "    </tr>\n",
       "    <tr>\n",
       "      <th>581</th>\n",
       "      <td>Dalbandin</td>\n",
       "      <td>0</td>\n",
       "      <td>PK</td>\n",
       "      <td>1603933113</td>\n",
       "      <td>40</td>\n",
       "      <td>28.89</td>\n",
       "      <td>64.41</td>\n",
       "      <td>49.93</td>\n",
       "      <td>3.83</td>\n",
       "    </tr>\n",
       "  </tbody>\n",
       "</table>\n",
       "<p>582 rows × 9 columns</p>\n",
       "</div>"
      ],
      "text/plain": [
       "                    City  Cloudiness Country        Date  Humidity    Lat  \\\n",
       "0                Salinas           1      US  1603932753        44  36.68   \n",
       "1              Gardabani          85      GE  1603933043        83  41.46   \n",
       "2              Ostrovnoy          99      RU  1603932996        88  68.05   \n",
       "3                  Isiro          76      CD  1603933044        97   2.77   \n",
       "4                 Tommot          89      RU  1603933044        92  58.96   \n",
       "..                   ...         ...     ...         ...       ...    ...   \n",
       "577                Tabuk         100      PH  1603933014        78  17.42   \n",
       "578  Adolfo López Mateos           0      MX  1603933113        27  28.47   \n",
       "579              Lumatil          40      PH  1603933113        66   5.87   \n",
       "580         San Jerónimo          26      PE  1603933113        54 -11.95   \n",
       "581            Dalbandin           0      PK  1603933113        40  28.89   \n",
       "\n",
       "        Lng  Max Temp  Wind Speed  \n",
       "0   -121.66     71.60        9.17  \n",
       "1     45.09     52.32        1.83  \n",
       "2     39.51     39.52       18.14  \n",
       "3     27.62     67.96        1.10  \n",
       "4    126.29     10.33        0.81  \n",
       "..      ...       ...         ...  \n",
       "577  121.44     79.81        2.21  \n",
       "578 -107.30     51.01       11.01  \n",
       "579  124.89     83.77        2.46  \n",
       "580  -75.28     56.80        3.18  \n",
       "581   64.41     49.93        3.83  \n",
       "\n",
       "[582 rows x 9 columns]"
      ]
     },
     "execution_count": 6,
     "metadata": {},
     "output_type": "execute_result"
    }
   ],
   "source": [
    "# Create a panda data frame using data retrieved\n",
    "weather_dict = pd.DataFrame({ \n",
    "                \"City\" : city_name_list,\n",
    "                \"Cloudiness\" : cloudiness_list,\n",
    "                \"Country\" : country_list,\n",
    "                \"Date\" : date_list,\n",
    "                \"Humidity\" : humidity_list,\n",
    "                \"Lat\" : lat_list,\n",
    "                \"Lng\" : lng_list,\n",
    "                \"Max Temp\" : max_temp_list,\n",
    "                \"Wind Speed\" : wind_speed_list\n",
    "})\n",
    "# Count data\n",
    "weather_dict.count()\n",
    "\n",
    "#Save dataframe as csv\n",
    "pd.DataFrame.to_csv(weather_dict, 'weather_dict.csv')\n",
    "\n",
    "# Display the Data Frame\n",
    "weather_dict"
   ]
  },
  {
   "cell_type": "markdown",
   "metadata": {},
   "source": [
    "## Inspect the data and remove the cities where the humidity > 100%.\n",
    "----\n",
    "Skip this step if there are no cities that have humidity > 100%. "
   ]
  },
  {
   "cell_type": "code",
   "execution_count": null,
   "metadata": {},
   "outputs": [],
   "source": []
  },
  {
   "cell_type": "code",
   "execution_count": 16,
   "metadata": {},
   "outputs": [],
   "source": [
    "#  Get the indices of cities that have humidity over 100%.\n"
   ]
  },
  {
   "cell_type": "code",
   "execution_count": 17,
   "metadata": {},
   "outputs": [],
   "source": [
    "# Make a new DataFrame equal to the city data to drop all humidity outliers by index.\n",
    "# Passing \"inplace=False\" will make a copy of the city_data DataFrame, which we call \"clean_city_data\".\n"
   ]
  },
  {
   "cell_type": "code",
   "execution_count": null,
   "metadata": {},
   "outputs": [],
   "source": [
    "\n"
   ]
  },
  {
   "cell_type": "markdown",
   "metadata": {},
   "source": [
    "## Plotting the Data\n",
    "* Use proper labeling of the plots using plot titles (including date of analysis) and axes labels.\n",
    "* Save the plotted figures as .pngs."
   ]
  },
  {
   "cell_type": "markdown",
   "metadata": {},
   "source": [
    "## Latitude vs. Temperature Plot"
   ]
  },
  {
   "cell_type": "code",
   "execution_count": 7,
   "metadata": {
    "scrolled": true
   },
   "outputs": [
    {
     "data": {
      "image/png": "[encoded data removed]",
      "text/plain": [
       "<Figure size 432x288 with 1 Axes>"
      ]
     },
     "metadata": {
      "needs_background": "light"
     },
     "output_type": "display_data"
    }
   ],
   "source": [
    "#Plot latitude vs temperature and save as .png\n",
    "plt.scatter(weather_dict['Lat'], weather_dict['Max Temp'])\n",
    "plt.title(f'City Latitude vs. Temperature {date.today()}')\n",
    "plt.xlabel('Latitude')\n",
    "plt.ylabel('Max Temp')\n",
    "plt.grid(True)\n",
    "plt.savefig('lat_temp.png', bbox_inches='tight')"
   ]
  },
  {
   "cell_type": "markdown",
   "metadata": {},
   "source": [
    "## Latitude vs. Humidity Plot"
   ]
  },
  {
   "cell_type": "code",
   "execution_count": 8,
   "metadata": {},
   "outputs": [
    {
     "data": {
      "image/png": "[encoded data removed]",
      "text/plain": [
       "<Figure size 432x288 with 1 Axes>"
      ]
     },
     "metadata": {
      "needs_background": "light"
     },
     "output_type": "display_data"
    }
   ],
   "source": [
    "#Plot latitude vs humidity and save as .png\n",
    "plt.scatter(weather_dict['Lat'], weather_dict['Humidity'])\n",
    "plt.title(f'City Latitude vs. Humidity {date.today()}')\n",
    "plt.xlabel('Latitude')\n",
    "plt.ylabel('Humidity')\n",
    "plt.grid(True)\n",
    "plt.savefig('lat_humid.png', bbox_inches='tight')"
   ]
  },
  {
   "cell_type": "markdown",
   "metadata": {},
   "source": [
    "## Latitude vs. Cloudiness Plot"
   ]
  },
  {
   "cell_type": "code",
   "execution_count": 9,
   "metadata": {},
   "outputs": [
    {
     "data": {
      "image/png": "[encoded data removed]",
      "text/plain": [
       "<Figure size 432x288 with 1 Axes>"
      ]
     },
     "metadata": {
      "needs_background": "light"
     },
     "output_type": "display_data"
    }
   ],
   "source": [
    "#Plot latitude vs cloudiness and save as .png\n",
    "plt.scatter(weather_dict['Lat'], weather_dict['Cloudiness'])\n",
    "plt.title(f'City Latitude vs. Cloudiness {date.today()}')\n",
    "plt.xlabel('Latitude')\n",
    "plt.ylabel('Cloudiness')\n",
    "plt.grid(True)\n",
    "plt.savefig('lat_cloud.png', bbox_inches='tight')"
   ]
  },
  {
   "cell_type": "markdown",
   "metadata": {},
   "source": [
    "## Latitude vs. Wind Speed Plot"
   ]
  },
  {
   "cell_type": "code",
   "execution_count": 10,
   "metadata": {},
   "outputs": [
    {
     "data": {
      "image/png": "[encoded data removed]",
      "text/plain": [
       "<Figure size 432x288 with 1 Axes>"
      ]
     },
     "metadata": {
      "needs_background": "light"
     },
     "output_type": "display_data"
    }
   ],
   "source": [
    "#Plot latitude vs cloudiness and save as .png\n",
    "plt.scatter(weather_dict['Lat'], weather_dict['Wind Speed'])\n",
    "plt.title(f'City Latitude vs. Wind Speed {date.today()}')\n",
    "plt.xlabel('Latitude')\n",
    "plt.ylabel('Wind Speed')\n",
    "plt.grid(True)\n",
    "plt.savefig('lat_cloud.png', bbox_inches='tight')"
   ]
  },
  {
   "cell_type": "markdown",
   "metadata": {},
   "source": [
    "## Linear Regression"
   ]
  },
  {
   "cell_type": "code",
   "execution_count": 11,
   "metadata": {},
   "outputs": [],
   "source": [
    "nothern = weather_dict.loc[weather_dict[\"Lat\"] >= 0.0]\n",
    "nothern.reset_index(inplace=True)\n",
    "\n",
    "southern = weather_dict.loc[weather_dict[\"Lat\"] < 0.0]\n",
    "southern.reset_index(inplace=True)\n",
    "\n",
    "def plotLinearRegression(xdata,ydata,xlbl,ylbl,lblpos,ifig):\n",
    "    (slope, intercept, rvalue, pvalue, stderr) = linregress(xdata, ydata)\n",
    "    print(f\"The r-squared is: {rvalue}\")\n",
    "    regress_values = xdata * slope + intercept\n",
    "    line_eq = \"y = \" + str(round(slope,2)) + \"x + \" + str(round(intercept,2))\n",
    "\n",
    "    plt.scatter(xdata,ydata)\n",
    "    plt.plot(xdata,regress_values,\"r-\")\n",
    "    plt.annotate(line_eq,lblpos,fontsize=15,color=\"red\")\n",
    "    plt.xlabel(xlbl)\n",
    "    plt.ylabel(ylbl)\n",
    "    plt.show()"
   ]
  },
  {
   "cell_type": "markdown",
   "metadata": {},
   "source": [
    "####  Northern Hemisphere - Max Temp vs. Latitude Linear Regression"
   ]
  },
  {
   "cell_type": "code",
   "execution_count": 12,
   "metadata": {},
   "outputs": [
    {
     "name": "stdout",
     "output_type": "stream",
     "text": [
      "The r-squared is: -0.8651142842616334\n"
     ]
    },
    {
     "data": {
      "image/png": "[encoded data removed]",
      "text/plain": [
       "<Figure size 432x288 with 1 Axes>"
      ]
     },
     "metadata": {
      "needs_background": "light"
     },
     "output_type": "display_data"
    }
   ],
   "source": [
    "xlbl = \"Lat\"\n",
    "ylbl = \"Max Temp\"\n",
    "lblpos = (0,25)\n",
    "plotLinearRegression(nothern[xlbl],nothern[ylbl],xlbl,ylbl,lblpos,5)"
   ]
  },
  {
   "cell_type": "markdown",
   "metadata": {},
   "source": [
    "####  Southern Hemisphere - Max Temp vs. Latitude Linear Regression"
   ]
  },
  {
   "cell_type": "code",
   "execution_count": 13,
   "metadata": {},
   "outputs": [
    {
     "name": "stdout",
     "output_type": "stream",
     "text": [
      "The r-squared is: 0.6990628145468548\n"
     ]
    },
    {
     "data": {
      "image/png": "[encoded data removed]",
      "text/plain": [
       "<Figure size 432x288 with 1 Axes>"
      ]
     },
     "metadata": {
      "needs_background": "light"
     },
     "output_type": "display_data"
    }
   ],
   "source": [
    "xlbl = \"Lat\"\n",
    "ylbl = \"Max Temp\"\n",
    "lblpos = (0,25)\n",
    "plotLinearRegression(southern[xlbl],southern[ylbl],xlbl,ylbl,lblpos,5)"
   ]
  },
  {
   "cell_type": "markdown",
   "metadata": {},
   "source": [
    "####  Northern Hemisphere - Humidity (%) vs. Latitude Linear Regression"
   ]
  },
  {
   "cell_type": "code",
   "execution_count": 14,
   "metadata": {},
   "outputs": [
    {
     "name": "stdout",
     "output_type": "stream",
     "text": [
      "The r-squared is: 0.30531076351575903\n"
     ]
    },
    {
     "data": {
      "image/png": "[encoded data removed]",
      "text/plain": [
       "<Figure size 432x288 with 1 Axes>"
      ]
     },
     "metadata": {
      "needs_background": "light"
     },
     "output_type": "display_data"
    }
   ],
   "source": [
    "xlbl = \"Lat\"\n",
    "ylbl = \"Humidity\"\n",
    "lblpos = (0,45)\n",
    "plotLinearRegression(nothern[xlbl],nothern[ylbl],xlbl,ylbl,lblpos,5)"
   ]
  },
  {
   "cell_type": "markdown",
   "metadata": {},
   "source": [
    "####  Southern Hemisphere - Humidity (%) vs. Latitude Linear Regression"
   ]
  },
  {
   "cell_type": "code",
   "execution_count": 15,
   "metadata": {},
   "outputs": [
    {
     "name": "stdout",
     "output_type": "stream",
     "text": [
      "The r-squared is: 0.12262759346816433\n"
     ]
    },
    {
     "data": {
      "image/png": "[encoded data removed]",
      "text/plain": [
       "<Figure size 432x288 with 1 Axes>"
      ]
     },
     "metadata": {
      "needs_background": "light"
     },
     "output_type": "display_data"
    }
   ],
   "source": [
    "xlbl = \"Lat\"\n",
    "ylbl = \"Humidity\"\n",
    "lblpos = (0,-25)\n",
    "plotLinearRegression(southern[xlbl],southern[ylbl],xlbl,ylbl,lblpos,5)"
   ]
  },
  {
   "cell_type": "markdown",
   "metadata": {},
   "source": [
    "####  Northern Hemisphere - Cloudiness (%) vs. Latitude Linear Regression"
   ]
  },
  {
   "cell_type": "code",
   "execution_count": 16,
   "metadata": {},
   "outputs": [
    {
     "name": "stdout",
     "output_type": "stream",
     "text": [
      "The r-squared is: 0.1612330811658328\n"
     ]
    },
    {
     "data": {
      "image/png": "[encoded data removed]",
      "text/plain": [
       "<Figure size 432x288 with 1 Axes>"
      ]
     },
     "metadata": {
      "needs_background": "light"
     },
     "output_type": "display_data"
    }
   ],
   "source": [
    "xlbl = \"Lat\"\n",
    "ylbl = \"Cloudiness\"\n",
    "lblpos = (0,25)\n",
    "plotLinearRegression(nothern[xlbl],nothern[ylbl],xlbl,ylbl,lblpos,5)"
   ]
  },
  {
   "cell_type": "markdown",
   "metadata": {},
   "source": [
    "####  Southern Hemisphere - Cloudiness (%) vs. Latitude Linear Regression"
   ]
  },
  {
   "cell_type": "code",
   "execution_count": 17,
   "metadata": {},
   "outputs": [
    {
     "name": "stdout",
     "output_type": "stream",
     "text": [
      "The r-squared is: 0.17945389515344382\n"
     ]
    },
    {
     "data": {
      "image/png": "[encoded data removed]",
      "text/plain": [
       "<Figure size 432x288 with 1 Axes>"
      ]
     },
     "metadata": {
      "needs_background": "light"
     },
     "output_type": "display_data"
    }
   ],
   "source": [
    "xlbl = \"Lat\"\n",
    "ylbl = \"Cloudiness\"\n",
    "lblpos = (0,-25)\n",
    "plotLinearRegression(southern[xlbl],southern[ylbl],xlbl,ylbl,lblpos,5)"
   ]
  },
  {
   "cell_type": "markdown",
   "metadata": {},
   "source": [
    "####  Northern Hemisphere - Wind Speed (mph) vs. Latitude Linear Regression"
   ]
  },
  {
   "cell_type": "code",
   "execution_count": 18,
   "metadata": {},
   "outputs": [
    {
     "name": "stdout",
     "output_type": "stream",
     "text": [
      "The r-squared is: 0.18313888463341899\n"
     ]
    },
    {
     "data": {
      "image/png": "[encoded data removed]",
      "text/plain": [
       "<Figure size 432x288 with 1 Axes>"
      ]
     },
     "metadata": {
      "needs_background": "light"
     },
     "output_type": "display_data"
    }
   ],
   "source": [
    "xlbl = \"Lat\"\n",
    "ylbl = \"Wind Speed\"\n",
    "lblpos = (0,15)\n",
    "plotLinearRegression(nothern[xlbl],nothern[ylbl],xlbl,ylbl,lblpos,5)"
   ]
  },
  {
   "cell_type": "markdown",
   "metadata": {},
   "source": [
    "####  Southern Hemisphere - Wind Speed (mph) vs. Latitude Linear Regression"
   ]
  },
  {
   "cell_type": "code",
   "execution_count": 19,
   "metadata": {},
   "outputs": [
    {
     "name": "stdout",
     "output_type": "stream",
     "text": [
      "The r-squared is: -0.19727810067105814\n"
     ]
    },
    {
     "data": {
      "image/png": "[encoded data removed]",
      "text/plain": [
       "<Figure size 432x288 with 1 Axes>"
      ]
     },
     "metadata": {
      "needs_background": "light"
     },
     "output_type": "display_data"
    }
   ],
   "source": [
    "xlbl = \"Lat\"\n",
    "ylbl = \"Wind Speed\"\n",
    "lblpos = (0,-25)\n",
    "plotLinearRegression(southern[xlbl],southern[ylbl],xlbl,ylbl,lblpos,5)"
   ]
  },
  {
   "cell_type": "code",
   "execution_count": null,
   "metadata": {},
   "outputs": [],
   "source": []
  }
 ],
 "metadata": {
  "anaconda-cloud": {},
  "kernel_info": {
   "name": "python3"
  },
  "kernelspec": {
   "display_name": "Python [conda env:PythonData]",
   "language": "python",
   "name": "conda-env-PythonData-py"
  },
  "language_info": {
   "codemirror_mode": {
    "name": "ipython",
    "version": 3
   },
   "file_extension": ".py",
   "mimetype": "text/x-python",
   "name": "python",
   "nbconvert_exporter": "python",
   "pygments_lexer": "ipython3",
   "version": "3.6.10"
  },
  "latex_envs": {
   "LaTeX_envs_menu_present": true,
   "autoclose": false,
   "autocomplete": true,
   "bibliofile": "biblio.bib",
   "cite_by": "apalike",
   "current_citInitial": 1,
   "eqLabelWithNumbers": true,
   "eqNumInitial": 1,
   "hotkeys": {
    "equation": "Ctrl-E",
    "itemize": "Ctrl-I"
   },
   "labels_anchors": false,
   "latex_user_defs": false,
   "report_style_numbering": false,
   "user_envs_cfg": false
  },
  "nteract": {
   "version": "0.12.3"
  }
 },
 "nbformat": 4,
 "nbformat_minor": 2
}
